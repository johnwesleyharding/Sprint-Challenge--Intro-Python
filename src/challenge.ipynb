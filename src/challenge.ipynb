{
 "cells": [
  {
   "cell_type": "code",
   "execution_count": 27,
   "metadata": {},
   "outputs": [],
   "source": [
    "class Vehicle:\n",
    "    pass\n",
    "\n",
    "class GroundVehicle(Vehicle):\n",
    "    pass\n",
    "\n",
    "class FlightVehicle(Vehicle):\n",
    "    pass\n",
    "\n",
    "class Car(GroundVehicle):\n",
    "    pass\n",
    "\n",
    "class Motorcycle(GroundVehicle):\n",
    "    pass\n",
    "\n",
    "class Airplane(FlightVehicle):\n",
    "    pass\n",
    "\n",
    "class Starship(FlightVehicle):\n",
    "    pass"
   ]
  },
  {
   "cell_type": "code",
   "execution_count": 28,
   "metadata": {},
   "outputs": [],
   "source": [
    "class GroundVehicle():\n",
    "    def __init__(self, num_wheels = 4):\n",
    "        self.num_wheels = num_wheels\n",
    "        \n",
    "    def drive(self):\n",
    "        print('vroooom')"
   ]
  },
  {
   "cell_type": "code",
   "execution_count": 29,
   "metadata": {},
   "outputs": [
    {
     "name": "stdout",
     "output_type": "stream",
     "text": [
      "4\n",
      "vroooom\n"
     ]
    }
   ],
   "source": [
    "car = GroundVehicle(4)\n",
    "print(car.num_wheels)\n",
    "car.drive()"
   ]
  },
  {
   "cell_type": "code",
   "execution_count": 30,
   "metadata": {},
   "outputs": [],
   "source": [
    "class Motorcycle(GroundVehicle):\n",
    "    def __init__(self, num_wheels = 2):\n",
    "        super().__init__(num_wheels)\n",
    "    \n",
    "    def drive(self):\n",
    "        print('BRAAAP!!')"
   ]
  },
  {
   "cell_type": "code",
   "execution_count": 31,
   "metadata": {},
   "outputs": [
    {
     "name": "stdout",
     "output_type": "stream",
     "text": [
      "2\n",
      "BRAAAP!!\n"
     ]
    }
   ],
   "source": [
    "mot = Motorcycle()\n",
    "print(mot.num_wheels)\n",
    "mot.drive()"
   ]
  },
  {
   "cell_type": "code",
   "execution_count": 32,
   "metadata": {},
   "outputs": [
    {
     "name": "stdout",
     "output_type": "stream",
     "text": [
      "vroooom\n",
      "vroooom\n",
      "BRAAAP!!\n",
      "vroooom\n",
      "BRAAAP!!\n"
     ]
    }
   ],
   "source": [
    "vehicles = [\n",
    "    GroundVehicle(),\n",
    "    GroundVehicle(),\n",
    "    Motorcycle(),\n",
    "    GroundVehicle(),\n",
    "    Motorcycle(),\n",
    "]\n",
    "\n",
    "for v in vehicles:\n",
    "    v.drive()"
   ]
  },
  {
   "cell_type": "code",
   "execution_count": 39,
   "metadata": {},
   "outputs": [],
   "source": [
    "class Human:\n",
    "    def __init__(self, name, age):\n",
    "        self.name = name\n",
    "        self.age = age\n",
    "\n",
    "    def __repr__(self):\n",
    "        return f\"<Human: {self.name}, {self.age}>\"\n",
    "\n",
    "humans = [\n",
    "    Human(\"Alice\", 29),\n",
    "    Human(\"Bob\", 32),\n",
    "    Human(\"Charlie\", 37),\n",
    "    Human(\"Daphne\", 30),\n",
    "    Human(\"Eve\", 26),\n",
    "    Human(\"Frank\", 18),\n",
    "    Human(\"Glenn\", 42),\n",
    "    Human(\"Harrison\", 12),\n",
    "    Human(\"Igon\", 41),\n",
    "    Human(\"David\", 31),\n",
    "]"
   ]
  },
  {
   "cell_type": "code",
   "execution_count": 40,
   "metadata": {},
   "outputs": [
    {
     "name": "stdout",
     "output_type": "stream",
     "text": [
      "Starts with D:\n",
      "['Daphne', 'David']\n"
     ]
    }
   ],
   "source": [
    "print(\"Starts with D:\")\n",
    "a = [person.name for person in humans if person.name[0] == 'D']\n",
    "print(a)"
   ]
  },
  {
   "cell_type": "code",
   "execution_count": 42,
   "metadata": {},
   "outputs": [
    {
     "name": "stdout",
     "output_type": "stream",
     "text": [
      "Ends with e:\n",
      "['Alice', 'Charlie', 'Daphne', 'Eve']\n"
     ]
    }
   ],
   "source": [
    "print(\"Ends with e:\")\n",
    "b = [person.name for person in humans if person.name[-1] == 'e']\n",
    "print(b)"
   ]
  },
  {
   "cell_type": "code",
   "execution_count": 45,
   "metadata": {},
   "outputs": [
    {
     "name": "stdout",
     "output_type": "stream",
     "text": [
      "Starts between C and G, inclusive:\n",
      "['Charlie', 'Daphne', 'Eve', 'Frank', 'Glenn', 'David']\n"
     ]
    }
   ],
   "source": [
    "print(\"Starts between C and G, inclusive:\")\n",
    "c = [person.name for person in humans if person.name[0] in ['C', 'D', 'E', 'F', 'G']]\n",
    "print(c)"
   ]
  },
  {
   "cell_type": "code",
   "execution_count": 46,
   "metadata": {},
   "outputs": [
    {
     "name": "stdout",
     "output_type": "stream",
     "text": [
      "Ages plus 10:\n",
      "[39, 42, 47, 40, 36, 28, 52, 22, 51, 41]\n"
     ]
    }
   ],
   "source": [
    "print(\"Ages plus 10:\")\n",
    "d = [person.age + 10 for person in humans]\n",
    "print(d)"
   ]
  },
  {
   "cell_type": "code",
   "execution_count": 47,
   "metadata": {},
   "outputs": [
    {
     "name": "stdout",
     "output_type": "stream",
     "text": [
      "Name hyphen age:\n",
      "['Alice-29', 'Bob-32', 'Charlie-37', 'Daphne-30', 'Eve-26', 'Frank-18', 'Glenn-42', 'Harrison-12', 'Igon-41', 'David-31']\n"
     ]
    }
   ],
   "source": [
    "print(\"Name hyphen age:\")\n",
    "e = [person.name + '-' + str(person.age) for person in humans]\n",
    "print(e)"
   ]
  },
  {
   "cell_type": "code",
   "execution_count": 49,
   "metadata": {},
   "outputs": [
    {
     "name": "stdout",
     "output_type": "stream",
     "text": [
      "Names and ages between 27 and 32:\n",
      "[('Alice', 29), ('Bob', 32), ('Daphne', 30), ('David', 31)]\n"
     ]
    }
   ],
   "source": [
    "print(\"Names and ages between 27 and 32:\")\n",
    "f = [(person.name, person.age) for person in humans if 27 <= person.age <= 32]\n",
    "print(f)"
   ]
  },
  {
   "cell_type": "code",
   "execution_count": 50,
   "metadata": {},
   "outputs": [
    {
     "name": "stdout",
     "output_type": "stream",
     "text": [
      "All names uppercase:\n",
      "[<Human: ALICE, 34>, <Human: BOB, 37>, <Human: CHARLIE, 42>, <Human: DAPHNE, 35>, <Human: EVE, 31>, <Human: FRANK, 23>, <Human: GLENN, 47>, <Human: HARRISON, 17>, <Human: IGON, 46>, <Human: DAVID, 36>]\n"
     ]
    }
   ],
   "source": [
    "print(\"All names uppercase:\")\n",
    "g = [Human(person.name.upper(), person.age + 5) for person in humans]\n",
    "print(g)"
   ]
  },
  {
   "cell_type": "code",
   "execution_count": 53,
   "metadata": {},
   "outputs": [
    {
     "name": "stdout",
     "output_type": "stream",
     "text": [
      "Square root of ages:\n",
      "[5.385164807134504, 5.656854249492381, 6.082762530298219, 5.477225575051661, 5.0990195135927845, 4.242640687119285, 6.48074069840786, 3.4641016151377544, 6.4031242374328485, 5.5677643628300215]\n"
     ]
    }
   ],
   "source": [
    "print(\"Square root of ages:\")\n",
    "h = [person.age ** (1/2) for person in humans]\n",
    "print(h)"
   ]
  },
  {
   "cell_type": "code",
   "execution_count": 56,
   "metadata": {},
   "outputs": [],
   "source": [
    "import pandas as pd"
   ]
  },
  {
   "cell_type": "code",
   "execution_count": 57,
   "metadata": {},
   "outputs": [],
   "source": [
    "class City:\n",
    "    \n",
    "    def __init__(self, name, lat, lon):\n",
    "        self.name = name\n",
    "        self.lat = lat\n",
    "        self.lon = lon"
   ]
  },
  {
   "cell_type": "code",
   "execution_count": 68,
   "metadata": {},
   "outputs": [],
   "source": [
    "def cityreader(cities=[]):\n",
    "\n",
    "    df = pd.read_csv('./cityreader/cities.csv')\n",
    "    \n",
    "    for index, row in df.iterrows():\n",
    "\n",
    "        cities.append(City(row['city'], row['lat'], row['lng']))\n",
    "    \n",
    "    return cities\n",
    "\n",
    "cities = cityreader()"
   ]
  },
  {
   "cell_type": "code",
   "execution_count": 73,
   "metadata": {},
   "outputs": [
    {
     "name": "stdout",
     "output_type": "stream",
     "text": [
      "Seattle 47.6217 -122.3238\n",
      "Richmond 37.5294 -77.4755\n",
      "Virginia Beach 36.7335 -76.0435\n",
      "Washington 38.9047 -77.0163\n",
      "Milwaukee 43.064 -87.9669\n",
      "Orlando 28.4801 -81.3448\n",
      "Miami 25.784 -80.2102\n",
      "Tampa 27.9937 -82.4454\n",
      "Jacksonville 30.3322 -81.6749\n",
      "Albuquerque 35.1055 -106.6476\n",
      "Fort Worth 32.7813 -97.3466\n",
      "McAllen 26.2203 -98.2457\n",
      "El Paso 31.8478 -106.431\n",
      "Dallas 32.7938 -96.7659\n",
      "Austin 30.3038 -97.7545\n",
      "Houston 29.7871 -95.3936\n",
      "San Antonio 29.4722 -98.5247\n",
      "New Orleans 30.0687 -89.9288\n",
      "Charlotte 35.208 -80.8308\n",
      "Raleigh 35.8323 -78.6441\n",
      "Omaha 41.2634 -96.0453\n",
      "Memphis 35.1047 -89.9773\n",
      "Nashville 36.1714 -86.7844\n",
      "Buffalo 42.9016 -78.8487\n",
      "Queens 40.7498 -73.7976\n",
      "New York 40.6943 -73.9249\n",
      "Bronx 40.8501 -73.8662\n",
      "Brooklyn 40.6501 -73.9496\n",
      "Manhattan 40.7834 -73.9662\n",
      "Philadelphia 40.0076 -75.134\n",
      "Pittsburgh 40.4396 -79.9763\n",
      "Sacramento 38.5666 -121.4683\n",
      "Riverside 33.9382 -117.3949\n",
      "San Francisco 37.7561 -122.4429\n",
      "San Diego 32.8312 -117.1225\n",
      "San Jose 37.302 -121.8488\n",
      "Los Angeles 34.114 -118.4068\n",
      "Las Vegas 36.2288 -115.2603\n",
      "Denver 39.7621 -104.8759\n",
      "Chicago 41.8373 -87.6861\n",
      "Atlanta 33.7627 -84.4231\n",
      "Indianapolis 39.7771 -86.1458\n",
      "Oklahoma City 35.4677 -97.5138\n",
      "Phoenix 33.5722 -112.0891\n",
      "Tucson 32.1558 -110.8777\n",
      "Bridgeport 41.1909 -73.1958\n",
      "Hartford 41.7661 -72.6834\n",
      "Baltimore 39.3051 -76.6144\n",
      "Boston 42.3189 -71.0838\n",
      "Cleveland 41.4766 -81.6805\n",
      "Columbus 39.9859 -82.9852\n",
      "Cincinnati 39.1412 -84.506\n",
      "Salt Lake City 40.7774 -111.9301\n",
      "Saint Louis 38.6358 -90.2451\n",
      "Kansas City 39.1239 -94.5541\n",
      "Minneapolis 44.9635 -93.2679\n",
      "Detroit 42.3834 -83.1024\n",
      "Providence 41.8229 -71.4186\n",
      "Louisville 38.1662 -85.6488\n",
      "Portland 45.5372 -122.65\n"
     ]
    }
   ],
   "source": [
    "for c in cities:\n",
    "    print(c.name, c.lat, c.lon)"
   ]
  },
  {
   "cell_type": "code",
   "execution_count": null,
   "metadata": {},
   "outputs": [],
   "source": []
  }
 ],
 "metadata": {
  "kernelspec": {
   "display_name": "Python 3",
   "language": "python",
   "name": "python3"
  },
  "language_info": {
   "codemirror_mode": {
    "name": "ipython",
    "version": 3
   },
   "file_extension": ".py",
   "mimetype": "text/x-python",
   "name": "python",
   "nbconvert_exporter": "python",
   "pygments_lexer": "ipython3",
   "version": "3.7.4"
  }
 },
 "nbformat": 4,
 "nbformat_minor": 4
}
