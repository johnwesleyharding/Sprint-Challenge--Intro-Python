{
 "cells": [
  {
   "cell_type": "code",
   "execution_count": 27,
   "metadata": {},
   "outputs": [],
   "source": [
    "class Vehicle:\n",
    "    pass\n",
    "\n",
    "class GroundVehicle(Vehicle):\n",
    "    pass\n",
    "\n",
    "class FlightVehicle(Vehicle):\n",
    "    pass\n",
    "\n",
    "class Car(GroundVehicle):\n",
    "    pass\n",
    "\n",
    "class Motorcycle(GroundVehicle):\n",
    "    pass\n",
    "\n",
    "class Airplane(FlightVehicle):\n",
    "    pass\n",
    "\n",
    "class Starship(FlightVehicle):\n",
    "    pass"
   ]
  },
  {
   "cell_type": "code",
   "execution_count": 28,
   "metadata": {},
   "outputs": [],
   "source": [
    "class GroundVehicle():\n",
    "    def __init__(self, num_wheels = 4):\n",
    "        self.num_wheels = num_wheels\n",
    "        \n",
    "    def drive(self):\n",
    "        print('vroooom')"
   ]
  },
  {
   "cell_type": "code",
   "execution_count": 29,
   "metadata": {},
   "outputs": [
    {
     "name": "stdout",
     "output_type": "stream",
     "text": [
      "4\n",
      "vroooom\n"
     ]
    }
   ],
   "source": [
    "car = GroundVehicle(4)\n",
    "print(car.num_wheels)\n",
    "car.drive()"
   ]
  },
  {
   "cell_type": "code",
   "execution_count": 30,
   "metadata": {},
   "outputs": [],
   "source": [
    "class Motorcycle(GroundVehicle):\n",
    "    def __init__(self, num_wheels = 2):\n",
    "        super().__init__(num_wheels)\n",
    "    \n",
    "    def drive(self):\n",
    "        print('BRAAAP!!')"
   ]
  },
  {
   "cell_type": "code",
   "execution_count": 31,
   "metadata": {},
   "outputs": [
    {
     "name": "stdout",
     "output_type": "stream",
     "text": [
      "2\n",
      "BRAAAP!!\n"
     ]
    }
   ],
   "source": [
    "mot = Motorcycle()\n",
    "print(mot.num_wheels)\n",
    "mot.drive()"
   ]
  },
  {
   "cell_type": "code",
   "execution_count": 32,
   "metadata": {},
   "outputs": [
    {
     "name": "stdout",
     "output_type": "stream",
     "text": [
      "vroooom\n",
      "vroooom\n",
      "BRAAAP!!\n",
      "vroooom\n",
      "BRAAAP!!\n"
     ]
    }
   ],
   "source": [
    "vehicles = [\n",
    "    GroundVehicle(),\n",
    "    GroundVehicle(),\n",
    "    Motorcycle(),\n",
    "    GroundVehicle(),\n",
    "    Motorcycle(),\n",
    "]\n",
    "\n",
    "for v in vehicles:\n",
    "    v.drive()"
   ]
  },
  {
   "cell_type": "code",
   "execution_count": 39,
   "metadata": {},
   "outputs": [],
   "source": [
    "class Human:\n",
    "    def __init__(self, name, age):\n",
    "        self.name = name\n",
    "        self.age = age\n",
    "\n",
    "    def __repr__(self):\n",
    "        return f\"<Human: {self.name}, {self.age}>\"\n",
    "\n",
    "humans = [\n",
    "    Human(\"Alice\", 29),\n",
    "    Human(\"Bob\", 32),\n",
    "    Human(\"Charlie\", 37),\n",
    "    Human(\"Daphne\", 30),\n",
    "    Human(\"Eve\", 26),\n",
    "    Human(\"Frank\", 18),\n",
    "    Human(\"Glenn\", 42),\n",
    "    Human(\"Harrison\", 12),\n",
    "    Human(\"Igon\", 41),\n",
    "    Human(\"David\", 31),\n",
    "]"
   ]
  },
  {
   "cell_type": "code",
   "execution_count": 40,
   "metadata": {},
   "outputs": [
    {
     "name": "stdout",
     "output_type": "stream",
     "text": [
      "Starts with D:\n",
      "['Daphne', 'David']\n"
     ]
    }
   ],
   "source": [
    "print(\"Starts with D:\")\n",
    "a = [person.name for person in humans if person.name[0] == 'D']\n",
    "print(a)"
   ]
  },
  {
   "cell_type": "code",
   "execution_count": 42,
   "metadata": {},
   "outputs": [
    {
     "name": "stdout",
     "output_type": "stream",
     "text": [
      "Ends with e:\n",
      "['Alice', 'Charlie', 'Daphne', 'Eve']\n"
     ]
    }
   ],
   "source": [
    "print(\"Ends with e:\")\n",
    "b = [person.name for person in humans if person.name[-1] == 'e']\n",
    "print(b)"
   ]
  },
  {
   "cell_type": "code",
   "execution_count": 45,
   "metadata": {},
   "outputs": [
    {
     "name": "stdout",
     "output_type": "stream",
     "text": [
      "Starts between C and G, inclusive:\n",
      "['Charlie', 'Daphne', 'Eve', 'Frank', 'Glenn', 'David']\n"
     ]
    }
   ],
   "source": [
    "print(\"Starts between C and G, inclusive:\")\n",
    "c = [person.name for person in humans if person.name[0] in ['C', 'D', 'E', 'F', 'G']]\n",
    "print(c)"
   ]
  },
  {
   "cell_type": "code",
   "execution_count": 46,
   "metadata": {},
   "outputs": [
    {
     "name": "stdout",
     "output_type": "stream",
     "text": [
      "Ages plus 10:\n",
      "[39, 42, 47, 40, 36, 28, 52, 22, 51, 41]\n"
     ]
    }
   ],
   "source": [
    "print(\"Ages plus 10:\")\n",
    "d = [person.age + 10 for person in humans]\n",
    "print(d)"
   ]
  },
  {
   "cell_type": "code",
   "execution_count": 47,
   "metadata": {},
   "outputs": [
    {
     "name": "stdout",
     "output_type": "stream",
     "text": [
      "Name hyphen age:\n",
      "['Alice-29', 'Bob-32', 'Charlie-37', 'Daphne-30', 'Eve-26', 'Frank-18', 'Glenn-42', 'Harrison-12', 'Igon-41', 'David-31']\n"
     ]
    }
   ],
   "source": [
    "print(\"Name hyphen age:\")\n",
    "e = [person.name + '-' + str(person.age) for person in humans]\n",
    "print(e)"
   ]
  },
  {
   "cell_type": "code",
   "execution_count": 49,
   "metadata": {},
   "outputs": [
    {
     "name": "stdout",
     "output_type": "stream",
     "text": [
      "Names and ages between 27 and 32:\n",
      "[('Alice', 29), ('Bob', 32), ('Daphne', 30), ('David', 31)]\n"
     ]
    }
   ],
   "source": [
    "print(\"Names and ages between 27 and 32:\")\n",
    "f = [(person.name, person.age) for person in humans if 27 <= person.age <= 32]\n",
    "print(f)"
   ]
  },
  {
   "cell_type": "code",
   "execution_count": 50,
   "metadata": {},
   "outputs": [
    {
     "name": "stdout",
     "output_type": "stream",
     "text": [
      "All names uppercase:\n",
      "[<Human: ALICE, 34>, <Human: BOB, 37>, <Human: CHARLIE, 42>, <Human: DAPHNE, 35>, <Human: EVE, 31>, <Human: FRANK, 23>, <Human: GLENN, 47>, <Human: HARRISON, 17>, <Human: IGON, 46>, <Human: DAVID, 36>]\n"
     ]
    }
   ],
   "source": [
    "print(\"All names uppercase:\")\n",
    "g = [Human(person.name.upper(), person.age + 5) for person in humans]\n",
    "print(g)"
   ]
  },
  {
   "cell_type": "code",
   "execution_count": 53,
   "metadata": {},
   "outputs": [
    {
     "name": "stdout",
     "output_type": "stream",
     "text": [
      "Square root of ages:\n",
      "[5.385164807134504, 5.656854249492381, 6.082762530298219, 5.477225575051661, 5.0990195135927845, 4.242640687119285, 6.48074069840786, 3.4641016151377544, 6.4031242374328485, 5.5677643628300215]\n"
     ]
    }
   ],
   "source": [
    "print(\"Square root of ages:\")\n",
    "h = [person.age ** (1/2) for person in humans]\n",
    "print(h)"
   ]
  },
  {
   "cell_type": "code",
   "execution_count": null,
   "metadata": {},
   "outputs": [],
   "source": []
  }
 ],
 "metadata": {
  "kernelspec": {
   "display_name": "Python 3",
   "language": "python",
   "name": "python3"
  },
  "language_info": {
   "codemirror_mode": {
    "name": "ipython",
    "version": 3
   },
   "file_extension": ".py",
   "mimetype": "text/x-python",
   "name": "python",
   "nbconvert_exporter": "python",
   "pygments_lexer": "ipython3",
   "version": "3.7.4"
  }
 },
 "nbformat": 4,
 "nbformat_minor": 4
}
